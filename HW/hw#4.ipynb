{
  "cells": [
    {
      "cell_type": "code",
      "execution_count": 1,
      "metadata": {
        "colab": {
          "base_uri": "https://localhost:8080/"
        },
        "id": "9Y89AhVtuZ8T",
        "outputId": "7b2e6fa4-0fd2-45c4-bd76-f8765a2c41f8"
      },
      "outputs": [
        {
          "output_type": "stream",
          "name": "stdout",
          "text": [
            "감지된 GPU가 없습니다. GPU가 없으면 CNN은 매우 느릴 수 있습니다.\n",
            "런타임 > 런타임 유형 변경 메뉴를 선택하고 하드웨어 가속기로 GPU를 고르세요.\n"
          ]
        }
      ],
      "source": [
        "# 파이썬 ≥3.5 필수\n",
        "import sys\n",
        "assert sys.version_info >= (3, 5)\n",
        "\n",
        "# 사이킷런 ≥0.20 필수\n",
        "import sklearn\n",
        "assert sklearn.__version__ >= \"0.20\"\n",
        "\n",
        "# 코랩에서 실행되는 노트북인가요?\n",
        "IS_COLAB = \"google.colab\" in sys.modules\n",
        "\n",
        "# 텐서플로 ≥2.0 필수\n",
        "import tensorflow as tf\n",
        "from tensorflow import keras\n",
        "assert tf.__version__ >= \"2.0\"\n",
        "\n",
        "if not tf.config.list_physical_devices('GPU'):\n",
        "    print(\"감지된 GPU가 없습니다. GPU가 없으면 CNN은 매우 느릴 수 있습니다.\")\n",
        "    if IS_COLAB:\n",
        "        print(\"런타임 > 런타임 유형 변경 메뉴를 선택하고 하드웨어 가속기로 GPU를 고르세요.\")\n",
        "\n",
        "# 공통 모듈 임포트\n",
        "import numpy as np\n",
        "import os\n",
        "\n",
        "# 노트북 실행 결과를 동일하게 유지하기 위해\n",
        "np.random.seed(42)\n",
        "tf.random.set_seed(42)\n",
        "\n",
        "# 깔끔한 그래프 출력을 위해\n",
        "%matplotlib inline\n",
        "import matplotlib as mpl\n",
        "import matplotlib.pyplot as plt\n",
        "mpl.rc('axes', labelsize=14)\n",
        "mpl.rc('xtick', labelsize=12)\n",
        "mpl.rc('ytick', labelsize=12)\n",
        "\n",
        "# 그림을 저장할 위치\n",
        "PROJECT_ROOT_DIR = \".\"\n",
        "CHAPTER_ID = \"cnn\"\n",
        "IMAGES_PATH = os.path.join(PROJECT_ROOT_DIR, \"images\", CHAPTER_ID)\n",
        "os.makedirs(IMAGES_PATH, exist_ok=True)\n",
        "\n",
        "def save_fig(fig_id, tight_layout=True, fig_extension=\"png\", resolution=300):\n",
        "    path = os.path.join(IMAGES_PATH, fig_id + \".\" + fig_extension)\n",
        "    print(\"그림 저장\", fig_id)\n",
        "    if tight_layout:\n",
        "        plt.tight_layout()\n",
        "    plt.savefig(path, format=fig_extension, dpi=resolution)"
      ]
    },
    {
      "cell_type": "code",
      "execution_count": 2,
      "metadata": {
        "id": "dfO_0udvqVJO",
        "colab": {
          "base_uri": "https://localhost:8080/"
        },
        "outputId": "3a9a3ed5-b30b-4ed1-8efb-f9a46ed0b1f0"
      },
      "outputs": [
        {
          "output_type": "stream",
          "name": "stdout",
          "text": [
            "Downloading data from https://storage.googleapis.com/tensorflow/tf-keras-datasets/mnist.npz\n",
            "11490434/11490434 [==============================] - 0s 0us/step\n"
          ]
        }
      ],
      "source": [
        "(X_train_full, y_train_full), (X_test, y_test) = keras.datasets.mnist.load_data()\n",
        "X_train_full = X_train_full / 255.\n",
        "X_test = X_test / 255.\n",
        "X_train, X_valid = X_train_full[:-5000], X_train_full[-5000:]\n",
        "y_train, y_valid = y_train_full[:-5000], y_train_full[-5000:]\n",
        "\n",
        "X_train = X_train[..., np.newaxis]\n",
        "X_valid = X_valid[..., np.newaxis]\n",
        "X_test = X_test[..., np.newaxis]"
      ]
    },
    {
      "cell_type": "code",
      "execution_count": 3,
      "metadata": {
        "colab": {
          "base_uri": "https://localhost:8080/"
        },
        "id": "70zNWNI_qVGc",
        "outputId": "15f31744-1242-455e-e83b-b4e3365bbcc4"
      },
      "outputs": [
        {
          "output_type": "stream",
          "name": "stdout",
          "text": [
            "Epoch 1/100\n",
            "1719/1719 [==============================] - 218s 122ms/step - loss: 0.3104 - accuracy: 0.9058 - val_loss: 0.0438 - val_accuracy: 0.9872\n",
            "Epoch 2/100\n",
            "1719/1719 [==============================] - 210s 122ms/step - loss: 0.1108 - accuracy: 0.9728 - val_loss: 0.0930 - val_accuracy: 0.9816\n",
            "Epoch 3/100\n",
            "1719/1719 [==============================] - 216s 125ms/step - loss: 0.0766 - accuracy: 0.9808 - val_loss: 0.0444 - val_accuracy: 0.9878\n",
            "Epoch 4/100\n",
            "1719/1719 [==============================] - 207s 121ms/step - loss: 0.0610 - accuracy: 0.9851 - val_loss: 0.0293 - val_accuracy: 0.9946\n",
            "Epoch 5/100\n",
            "1719/1719 [==============================] - 215s 125ms/step - loss: 0.0529 - accuracy: 0.9872 - val_loss: 0.0408 - val_accuracy: 0.9920\n",
            "Epoch 6/100\n",
            "1719/1719 [==============================] - 209s 122ms/step - loss: 0.0443 - accuracy: 0.9889 - val_loss: 0.0295 - val_accuracy: 0.9918\n",
            "Epoch 7/100\n",
            "1719/1719 [==============================] - 209s 121ms/step - loss: 0.0376 - accuracy: 0.9904 - val_loss: 0.0229 - val_accuracy: 0.9948\n",
            "Epoch 8/100\n",
            "1719/1719 [==============================] - 209s 122ms/step - loss: 0.0328 - accuracy: 0.9917 - val_loss: 0.0381 - val_accuracy: 0.9920\n",
            "Epoch 9/100\n",
            "1719/1719 [==============================] - 207s 120ms/step - loss: 0.0325 - accuracy: 0.9921 - val_loss: 0.0252 - val_accuracy: 0.9944\n",
            "Epoch 10/100\n",
            "1719/1719 [==============================] - 209s 121ms/step - loss: 0.0264 - accuracy: 0.9933 - val_loss: 0.0315 - val_accuracy: 0.9942\n",
            "Epoch 11/100\n",
            "1719/1719 [==============================] - 211s 123ms/step - loss: 0.0243 - accuracy: 0.9937 - val_loss: 0.0259 - val_accuracy: 0.9944\n",
            "Epoch 12/100\n",
            "1719/1719 [==============================] - 208s 121ms/step - loss: 0.0246 - accuracy: 0.9940 - val_loss: 0.0402 - val_accuracy: 0.9938\n",
            "Epoch 13/100\n",
            "1719/1719 [==============================] - 211s 122ms/step - loss: 0.0222 - accuracy: 0.9945 - val_loss: 0.0386 - val_accuracy: 0.9926\n",
            "Epoch 14/100\n",
            "1719/1719 [==============================] - 207s 121ms/step - loss: 0.0252 - accuracy: 0.9939 - val_loss: 0.0306 - val_accuracy: 0.9938\n",
            "Epoch 15/100\n",
            "1719/1719 [==============================] - 209s 121ms/step - loss: 0.0215 - accuracy: 0.9951 - val_loss: 0.0330 - val_accuracy: 0.9934\n",
            "Epoch 16/100\n",
            "1719/1719 [==============================] - 215s 125ms/step - loss: 0.0186 - accuracy: 0.9950 - val_loss: 0.0358 - val_accuracy: 0.9936\n",
            "Epoch 17/100\n",
            "1719/1719 [==============================] - 207s 120ms/step - loss: 0.0215 - accuracy: 0.9953 - val_loss: 0.0293 - val_accuracy: 0.9958\n",
            "Epoch 18/100\n",
            "1719/1719 [==============================] - 210s 122ms/step - loss: 0.0156 - accuracy: 0.9958 - val_loss: 0.0464 - val_accuracy: 0.9946\n",
            "Epoch 19/100\n",
            "1719/1719 [==============================] - 208s 121ms/step - loss: 0.0203 - accuracy: 0.9949 - val_loss: 0.0401 - val_accuracy: 0.9944\n",
            "Epoch 20/100\n",
            "1719/1719 [==============================] - 209s 122ms/step - loss: 0.0175 - accuracy: 0.9957 - val_loss: 0.0394 - val_accuracy: 0.9954\n",
            "Epoch 21/100\n",
            "1719/1719 [==============================] - 211s 123ms/step - loss: 0.0178 - accuracy: 0.9960 - val_loss: 0.0525 - val_accuracy: 0.9946\n",
            "Epoch 22/100\n",
            "1719/1719 [==============================] - 207s 120ms/step - loss: 0.0191 - accuracy: 0.9958 - val_loss: 0.0591 - val_accuracy: 0.9936\n",
            "Epoch 23/100\n",
            "1719/1719 [==============================] - 210s 122ms/step - loss: 0.0204 - accuracy: 0.9954 - val_loss: 0.0405 - val_accuracy: 0.9930\n",
            "Epoch 24/100\n",
            "1719/1719 [==============================] - 209s 122ms/step - loss: 0.0176 - accuracy: 0.9958 - val_loss: 0.0457 - val_accuracy: 0.9940\n",
            "Epoch 25/100\n",
            "1719/1719 [==============================] - 209s 121ms/step - loss: 0.0108 - accuracy: 0.9970 - val_loss: 0.0367 - val_accuracy: 0.9944\n",
            "Epoch 26/100\n",
            "1719/1719 [==============================] - 210s 122ms/step - loss: 0.0158 - accuracy: 0.9962 - val_loss: 0.0642 - val_accuracy: 0.9924\n",
            "Epoch 27/100\n",
            "1719/1719 [==============================] - 207s 121ms/step - loss: 0.0169 - accuracy: 0.9960 - val_loss: 0.0615 - val_accuracy: 0.9942\n",
            "Epoch 28/100\n",
            "1719/1719 [==============================] - 210s 122ms/step - loss: 0.0135 - accuracy: 0.9966 - val_loss: 0.0439 - val_accuracy: 0.9948\n",
            "Epoch 29/100\n",
            "1719/1719 [==============================] - 209s 121ms/step - loss: 0.0150 - accuracy: 0.9965 - val_loss: 0.0452 - val_accuracy: 0.9950\n",
            "Epoch 30/100\n",
            "1719/1719 [==============================] - 210s 122ms/step - loss: 0.0163 - accuracy: 0.9960 - val_loss: 0.0683 - val_accuracy: 0.9932\n",
            "Epoch 31/100\n",
            "1719/1719 [==============================] - 209s 122ms/step - loss: 0.0125 - accuracy: 0.9971 - val_loss: 0.0358 - val_accuracy: 0.9952\n",
            "Epoch 32/100\n",
            "1719/1719 [==============================] - 209s 122ms/step - loss: 0.0153 - accuracy: 0.9960 - val_loss: 0.0411 - val_accuracy: 0.9938\n",
            "Epoch 33/100\n",
            "1719/1719 [==============================] - 210s 122ms/step - loss: 0.0120 - accuracy: 0.9971 - val_loss: 0.0736 - val_accuracy: 0.9944\n",
            "Epoch 34/100\n",
            "1719/1719 [==============================] - 207s 120ms/step - loss: 0.0148 - accuracy: 0.9966 - val_loss: 0.0502 - val_accuracy: 0.9952\n",
            "Epoch 35/100\n",
            "1719/1719 [==============================] - 210s 122ms/step - loss: 0.0198 - accuracy: 0.9962 - val_loss: 0.0620 - val_accuracy: 0.9948\n",
            "Epoch 36/100\n",
            "1719/1719 [==============================] - 209s 122ms/step - loss: 0.0117 - accuracy: 0.9970 - val_loss: 0.0634 - val_accuracy: 0.9936\n",
            "Epoch 37/100\n",
            "1719/1719 [==============================] - 208s 121ms/step - loss: 0.0161 - accuracy: 0.9965 - val_loss: 0.0661 - val_accuracy: 0.9924\n",
            "Epoch 38/100\n",
            "1719/1719 [==============================] - 215s 125ms/step - loss: 0.0117 - accuracy: 0.9972 - val_loss: 0.0573 - val_accuracy: 0.9946\n",
            "Epoch 39/100\n",
            "1719/1719 [==============================] - 207s 120ms/step - loss: 0.0150 - accuracy: 0.9968 - val_loss: 0.0456 - val_accuracy: 0.9940\n",
            "Epoch 40/100\n",
            "1719/1719 [==============================] - 211s 123ms/step - loss: 0.0115 - accuracy: 0.9970 - val_loss: 0.0406 - val_accuracy: 0.9940\n",
            "Epoch 41/100\n",
            "1719/1719 [==============================] - 209s 122ms/step - loss: 0.0154 - accuracy: 0.9965 - val_loss: 0.0554 - val_accuracy: 0.9936\n",
            "Epoch 42/100\n",
            "1719/1719 [==============================] - 214s 125ms/step - loss: 0.0098 - accuracy: 0.9975 - val_loss: 0.0739 - val_accuracy: 0.9948\n",
            "Epoch 43/100\n",
            "1719/1719 [==============================] - 209s 122ms/step - loss: 0.0175 - accuracy: 0.9963 - val_loss: 0.0680 - val_accuracy: 0.9930\n",
            "Epoch 44/100\n",
            "1719/1719 [==============================] - 209s 122ms/step - loss: 0.0110 - accuracy: 0.9975 - val_loss: 0.0520 - val_accuracy: 0.9938\n",
            "Epoch 45/100\n",
            "1719/1719 [==============================] - 208s 121ms/step - loss: 0.0090 - accuracy: 0.9977 - val_loss: 0.0581 - val_accuracy: 0.9932\n",
            "Epoch 46/100\n",
            "1719/1719 [==============================] - 209s 121ms/step - loss: 0.0228 - accuracy: 0.9961 - val_loss: 0.0592 - val_accuracy: 0.9944\n",
            "Epoch 47/100\n",
            "1719/1719 [==============================] - 209s 122ms/step - loss: 0.0108 - accuracy: 0.9971 - val_loss: 0.0625 - val_accuracy: 0.9942\n",
            "Epoch 48/100\n",
            "1719/1719 [==============================] - 207s 121ms/step - loss: 0.0149 - accuracy: 0.9967 - val_loss: 0.0450 - val_accuracy: 0.9956\n",
            "Epoch 49/100\n",
            "1719/1719 [==============================] - 207s 121ms/step - loss: 0.0083 - accuracy: 0.9982 - val_loss: 0.0515 - val_accuracy: 0.9948\n",
            "Epoch 50/100\n",
            "1719/1719 [==============================] - 209s 122ms/step - loss: 0.0132 - accuracy: 0.9972 - val_loss: 0.0531 - val_accuracy: 0.9932\n",
            "Epoch 51/100\n",
            "1719/1719 [==============================] - 207s 120ms/step - loss: 0.0119 - accuracy: 0.9972 - val_loss: 0.0610 - val_accuracy: 0.9936\n",
            "Epoch 52/100\n",
            "1719/1719 [==============================] - 209s 122ms/step - loss: 0.0127 - accuracy: 0.9968 - val_loss: 0.0842 - val_accuracy: 0.9930\n",
            "Epoch 53/100\n",
            "1719/1719 [==============================] - 209s 122ms/step - loss: 0.0156 - accuracy: 0.9969 - val_loss: 0.0625 - val_accuracy: 0.9930\n",
            "Epoch 54/100\n",
            "1719/1719 [==============================] - 213s 124ms/step - loss: 0.0136 - accuracy: 0.9973 - val_loss: 0.0864 - val_accuracy: 0.9924\n",
            "Epoch 55/100\n",
            "1719/1719 [==============================] - 214s 124ms/step - loss: 0.0113 - accuracy: 0.9979 - val_loss: 0.0636 - val_accuracy: 0.9928\n",
            "Epoch 56/100\n",
            "1719/1719 [==============================] - 207s 121ms/step - loss: 0.0137 - accuracy: 0.9967 - val_loss: 0.0745 - val_accuracy: 0.9942\n",
            "Epoch 57/100\n",
            "1719/1719 [==============================] - 208s 121ms/step - loss: 0.0140 - accuracy: 0.9967 - val_loss: 0.0943 - val_accuracy: 0.9942\n",
            "Epoch 58/100\n",
            "1719/1719 [==============================] - 208s 121ms/step - loss: 0.0124 - accuracy: 0.9974 - val_loss: 0.0721 - val_accuracy: 0.9950\n",
            "Epoch 59/100\n",
            "1719/1719 [==============================] - 208s 121ms/step - loss: 0.0159 - accuracy: 0.9968 - val_loss: 0.0788 - val_accuracy: 0.9934\n",
            "Epoch 60/100\n",
            "1719/1719 [==============================] - 208s 121ms/step - loss: 0.0160 - accuracy: 0.9971 - val_loss: 0.0839 - val_accuracy: 0.9916\n",
            "Epoch 61/100\n",
            "1719/1719 [==============================] - 214s 124ms/step - loss: 0.0117 - accuracy: 0.9974 - val_loss: 0.0545 - val_accuracy: 0.9938\n",
            "Epoch 62/100\n",
            "1719/1719 [==============================] - 209s 121ms/step - loss: 0.0118 - accuracy: 0.9977 - val_loss: 0.0621 - val_accuracy: 0.9948\n",
            "Epoch 63/100\n",
            "1719/1719 [==============================] - 210s 122ms/step - loss: 0.0114 - accuracy: 0.9975 - val_loss: 0.0757 - val_accuracy: 0.9940\n",
            "Epoch 64/100\n",
            "1719/1719 [==============================] - 208s 121ms/step - loss: 0.0143 - accuracy: 0.9972 - val_loss: 0.0727 - val_accuracy: 0.9946\n",
            "Epoch 65/100\n",
            "1719/1719 [==============================] - 208s 121ms/step - loss: 0.0121 - accuracy: 0.9974 - val_loss: 0.0887 - val_accuracy: 0.9934\n",
            "Epoch 66/100\n",
            "1719/1719 [==============================] - 215s 125ms/step - loss: 0.0136 - accuracy: 0.9974 - val_loss: 0.1138 - val_accuracy: 0.9932\n",
            "Epoch 67/100\n",
            "1719/1719 [==============================] - 209s 121ms/step - loss: 0.0161 - accuracy: 0.9965 - val_loss: 0.0695 - val_accuracy: 0.9928\n",
            "Epoch 68/100\n",
            "1719/1719 [==============================] - 214s 124ms/step - loss: 0.0125 - accuracy: 0.9974 - val_loss: 0.0719 - val_accuracy: 0.9922\n",
            "Epoch 69/100\n",
            "1719/1719 [==============================] - 208s 121ms/step - loss: 0.0117 - accuracy: 0.9975 - val_loss: 0.0862 - val_accuracy: 0.9934\n",
            "Epoch 70/100\n",
            "1719/1719 [==============================] - 209s 121ms/step - loss: 0.0128 - accuracy: 0.9975 - val_loss: 0.1118 - val_accuracy: 0.9938\n",
            "Epoch 71/100\n",
            "1719/1719 [==============================] - 208s 121ms/step - loss: 0.0132 - accuracy: 0.9974 - val_loss: 0.0733 - val_accuracy: 0.9916\n",
            "Epoch 72/100\n",
            "1719/1719 [==============================] - 214s 125ms/step - loss: 0.0155 - accuracy: 0.9969 - val_loss: 0.0814 - val_accuracy: 0.9952\n",
            "Epoch 73/100\n",
            "1719/1719 [==============================] - 209s 122ms/step - loss: 0.0076 - accuracy: 0.9981 - val_loss: 0.0764 - val_accuracy: 0.9946\n",
            "Epoch 74/100\n",
            "1719/1719 [==============================] - 209s 122ms/step - loss: 0.0176 - accuracy: 0.9965 - val_loss: 0.0828 - val_accuracy: 0.9930\n",
            "Epoch 75/100\n",
            "1719/1719 [==============================] - 210s 122ms/step - loss: 0.0108 - accuracy: 0.9977 - val_loss: 0.1024 - val_accuracy: 0.9932\n",
            "Epoch 76/100\n",
            "1719/1719 [==============================] - 208s 121ms/step - loss: 0.0165 - accuracy: 0.9969 - val_loss: 0.0692 - val_accuracy: 0.9952\n",
            "Epoch 77/100\n",
            "1719/1719 [==============================] - 211s 123ms/step - loss: 0.0123 - accuracy: 0.9975 - val_loss: 0.0787 - val_accuracy: 0.9940\n",
            "Epoch 78/100\n",
            "1719/1719 [==============================] - 214s 124ms/step - loss: 0.0112 - accuracy: 0.9977 - val_loss: 0.1052 - val_accuracy: 0.9940\n",
            "Epoch 79/100\n",
            "1719/1719 [==============================] - 210s 122ms/step - loss: 0.0165 - accuracy: 0.9973 - val_loss: 0.0959 - val_accuracy: 0.9920\n",
            "Epoch 80/100\n",
            "1719/1719 [==============================] - 210s 122ms/step - loss: 0.0080 - accuracy: 0.9981 - val_loss: 0.0933 - val_accuracy: 0.9942\n",
            "Epoch 81/100\n",
            "1719/1719 [==============================] - 209s 122ms/step - loss: 0.0113 - accuracy: 0.9977 - val_loss: 0.0884 - val_accuracy: 0.9952\n",
            "Epoch 82/100\n",
            "1719/1719 [==============================] - 211s 122ms/step - loss: 0.0135 - accuracy: 0.9973 - val_loss: 0.1002 - val_accuracy: 0.9936\n",
            "Epoch 83/100\n",
            "1719/1719 [==============================] - 210s 122ms/step - loss: 0.0176 - accuracy: 0.9972 - val_loss: 0.0983 - val_accuracy: 0.9940\n",
            "Epoch 84/100\n",
            "1719/1719 [==============================] - 210s 122ms/step - loss: 0.0090 - accuracy: 0.9981 - val_loss: 0.1234 - val_accuracy: 0.9938\n",
            "Epoch 85/100\n",
            "1719/1719 [==============================] - 211s 123ms/step - loss: 0.0177 - accuracy: 0.9967 - val_loss: 0.0676 - val_accuracy: 0.9946\n",
            "Epoch 86/100\n",
            "1719/1719 [==============================] - 214s 125ms/step - loss: 0.0118 - accuracy: 0.9974 - val_loss: 0.0609 - val_accuracy: 0.9936\n",
            "Epoch 87/100\n",
            "1719/1719 [==============================] - 211s 123ms/step - loss: 0.0159 - accuracy: 0.9969 - val_loss: 0.1014 - val_accuracy: 0.9922\n",
            "Epoch 88/100\n",
            "1719/1719 [==============================] - 210s 122ms/step - loss: 0.0083 - accuracy: 0.9982 - val_loss: 0.0682 - val_accuracy: 0.9948\n",
            "Epoch 89/100\n",
            "1719/1719 [==============================] - 210s 122ms/step - loss: 0.0115 - accuracy: 0.9976 - val_loss: 0.0529 - val_accuracy: 0.9954\n",
            "Epoch 90/100\n",
            "1719/1719 [==============================] - 210s 122ms/step - loss: 0.0125 - accuracy: 0.9973 - val_loss: 0.1243 - val_accuracy: 0.9928\n",
            "Epoch 91/100\n",
            "1719/1719 [==============================] - 215s 125ms/step - loss: 0.0120 - accuracy: 0.9974 - val_loss: 0.1019 - val_accuracy: 0.9942\n",
            "Epoch 92/100\n",
            "1719/1719 [==============================] - 210s 122ms/step - loss: 0.0134 - accuracy: 0.9970 - val_loss: 0.0797 - val_accuracy: 0.9952\n",
            "Epoch 93/100\n",
            "1719/1719 [==============================] - 215s 125ms/step - loss: 0.0108 - accuracy: 0.9977 - val_loss: 0.1481 - val_accuracy: 0.9916\n",
            "Epoch 94/100\n",
            "1719/1719 [==============================] - 212s 123ms/step - loss: 0.0153 - accuracy: 0.9967 - val_loss: 0.1174 - val_accuracy: 0.9946\n",
            "Epoch 95/100\n",
            "1719/1719 [==============================] - 209s 121ms/step - loss: 0.0131 - accuracy: 0.9973 - val_loss: 0.1040 - val_accuracy: 0.9938\n",
            "Epoch 96/100\n",
            "1719/1719 [==============================] - 211s 123ms/step - loss: 0.0128 - accuracy: 0.9973 - val_loss: 0.1001 - val_accuracy: 0.9940\n",
            "Epoch 97/100\n",
            "1719/1719 [==============================] - 214s 125ms/step - loss: 0.0121 - accuracy: 0.9977 - val_loss: 0.0724 - val_accuracy: 0.9938\n",
            "Epoch 98/100\n",
            "1719/1719 [==============================] - 210s 122ms/step - loss: 0.0109 - accuracy: 0.9976 - val_loss: 0.1240 - val_accuracy: 0.9934\n",
            "Epoch 99/100\n",
            "1719/1719 [==============================] - 211s 123ms/step - loss: 0.0171 - accuracy: 0.9969 - val_loss: 0.1286 - val_accuracy: 0.9934\n",
            "Epoch 100/100\n",
            "1719/1719 [==============================] - 210s 122ms/step - loss: 0.0167 - accuracy: 0.9971 - val_loss: 0.1181 - val_accuracy: 0.9936\n"
          ]
        }
      ],
      "source": [
        "# Modified Model\n",
        "model = keras.models.Sequential([\n",
        "    keras.layers.Conv2D(32, 3, activation=\"relu\", padding=\"same\", input_shape=[28, 28, 1]),\n",
        "    keras.layers.MaxPooling2D(2),\n",
        "    keras.layers.Conv2D(64, 3, activation=\"relu\", padding=\"same\"),\n",
        "    keras.layers.Conv2D(64, 3, activation=\"relu\", padding=\"same\"),\n",
        "    keras.layers.MaxPooling2D(2),\n",
        "    keras.layers.Conv2D(128, 3, activation=\"relu\", padding=\"same\"),\n",
        "    keras.layers.Conv2D(128, 3, activation=\"relu\", padding=\"same\"),\n",
        "    keras.layers.MaxPooling2D(2),\n",
        "    keras.layers.Flatten(),\n",
        "    keras.layers.Dense(64, activation=\"relu\"),\n",
        "    keras.layers.Dropout(0.3),\n",
        "    keras.layers.Dense(32, activation=\"relu\"),\n",
        "    keras.layers.Dropout(0.3),\n",
        "    keras.layers.Dense(10, activation=\"softmax\")\n",
        "])\n",
        "\n",
        "model.compile(loss=\"sparse_categorical_crossentropy\", optimizer=\"nadam\", metrics=[\"accuracy\"])\n",
        "\n",
        "history = model.fit(X_train, y_train, epochs=100, validation_data=(X_valid, y_valid))"
      ]
    },
    {
      "cell_type": "code",
      "execution_count": 4,
      "metadata": {
        "id": "SUHLxjwlqmqk",
        "colab": {
          "base_uri": "https://localhost:8080/"
        },
        "outputId": "5d385ae1-5191-4c55-ca95-e7ca1cea490e"
      },
      "outputs": [
        {
          "output_type": "stream",
          "name": "stdout",
          "text": [
            "Model: \"sequential\"\n",
            "_________________________________________________________________\n",
            " Layer (type)                Output Shape              Param #   \n",
            "=================================================================\n",
            " conv2d (Conv2D)             (None, 28, 28, 32)        320       \n",
            "                                                                 \n",
            " max_pooling2d (MaxPooling2  (None, 14, 14, 32)        0         \n",
            " D)                                                              \n",
            "                                                                 \n",
            " conv2d_1 (Conv2D)           (None, 14, 14, 64)        18496     \n",
            "                                                                 \n",
            " conv2d_2 (Conv2D)           (None, 14, 14, 64)        36928     \n",
            "                                                                 \n",
            " max_pooling2d_1 (MaxPoolin  (None, 7, 7, 64)          0         \n",
            " g2D)                                                            \n",
            "                                                                 \n",
            " conv2d_3 (Conv2D)           (None, 7, 7, 128)         73856     \n",
            "                                                                 \n",
            " conv2d_4 (Conv2D)           (None, 7, 7, 128)         147584    \n",
            "                                                                 \n",
            " max_pooling2d_2 (MaxPoolin  (None, 3, 3, 128)         0         \n",
            " g2D)                                                            \n",
            "                                                                 \n",
            " flatten (Flatten)           (None, 1152)              0         \n",
            "                                                                 \n",
            " dense (Dense)               (None, 64)                73792     \n",
            "                                                                 \n",
            " dropout (Dropout)           (None, 64)                0         \n",
            "                                                                 \n",
            " dense_1 (Dense)             (None, 32)                2080      \n",
            "                                                                 \n",
            " dropout_1 (Dropout)         (None, 32)                0         \n",
            "                                                                 \n",
            " dense_2 (Dense)             (None, 10)                330       \n",
            "                                                                 \n",
            "=================================================================\n",
            "Total params: 353386 (1.35 MB)\n",
            "Trainable params: 353386 (1.35 MB)\n",
            "Non-trainable params: 0 (0.00 Byte)\n",
            "_________________________________________________________________\n"
          ]
        }
      ],
      "source": [
        "model.summary()"
      ]
    },
    {
      "cell_type": "code",
      "execution_count": 5,
      "metadata": {
        "id": "Bvi_jGlNqmnK",
        "colab": {
          "base_uri": "https://localhost:8080/",
          "height": 456
        },
        "outputId": "021026bf-8fc9-4d1c-e959-e9c6fa7d9182"
      },
      "outputs": [
        {
          "output_type": "display_data",
          "data": {
            "text/plain": [
              "<Figure size 800x500 with 1 Axes>"
            ],
            "image/png": "[encoded data removed]"
          },
          "metadata": {}
        }
      ],
      "source": [
        "import pandas as pd\n",
        "import matplotlib.pyplot as plt\n",
        "\n",
        "pd.DataFrame(history.history).plot(figsize=(8, 5))\n",
        "plt.grid(True)\n",
        "plt.gca().set_ylim(0, 1)\n",
        "plt.show()"
      ]
    },
    {
      "cell_type": "code",
      "execution_count": 6,
      "metadata": {
        "id": "sf0Iu6Z0qmkK",
        "colab": {
          "base_uri": "https://localhost:8080/"
        },
        "outputId": "90b7f164-7908-459f-86ec-1b96ac9afd89"
      },
      "outputs": [
        {
          "output_type": "stream",
          "name": "stdout",
          "text": [
            "313/313 [==============================] - 11s 35ms/step - loss: 0.0952 - accuracy: 0.9937\n"
          ]
        },
        {
          "output_type": "execute_result",
          "data": {
            "text/plain": [
              "[0.09521040320396423, 0.9937000274658203]"
            ]
          },
          "metadata": {},
          "execution_count": 6
        }
      ],
      "source": [
        "model.evaluate(X_test, y_test)"
      ]
    }
  ],
  "metadata": {
    "colab": {
      "provenance": []
    },
    "kernelspec": {
      "display_name": "Python 3",
      "name": "python3"
    },
    "language_info": {
      "name": "python"
    }
  },
  "nbformat": 4,
  "nbformat_minor": 0
}